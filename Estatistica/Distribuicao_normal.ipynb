{
 "cells": [
  {
   "cell_type": "markdown",
   "id": "065d1f4e-5682-48b5-aa3f-241108073fa7",
   "metadata": {},
   "source": [
    "# Distribuição Normal"
   ]
  },
  {
   "cell_type": "code",
   "execution_count": 1,
   "id": "8f6d68e6-d360-4cc2-8530-6febe6b081a0",
   "metadata": {},
   "outputs": [],
   "source": [
    "# Importação da função norm\n",
    "from scipy.stats import norm"
   ]
  },
  {
   "cell_type": "code",
   "execution_count": 2,
   "id": "20df6987-f985-4d4e-af32-ed344c310d47",
   "metadata": {},
   "outputs": [
    {
     "data": {
      "text/plain": [
       "0.15865525393145707"
      ]
     },
     "execution_count": 2,
     "metadata": {},
     "output_type": "execute_result"
    }
   ],
   "source": [
    "# Conjunto de objetos em uma cesta, a média é 8 e o desvio padrão é 2\n",
    "# Qual a probabilidade de tirar um objeto que peso é menor que 6 quilos?\n",
    "norm.cdf(6, 8, 2) # norm.cdf(probabilidade, media, devio_padrão)"
   ]
  },
  {
   "cell_type": "code",
   "execution_count": 3,
   "id": "26717725-960b-4314-865f-716a55a233b4",
   "metadata": {},
   "outputs": [
    {
     "data": {
      "text/plain": [
       "0.8413447460685429"
      ]
     },
     "execution_count": 3,
     "metadata": {},
     "output_type": "execute_result"
    }
   ],
   "source": [
    "# Qual a probabilidade de tirar um objeto que o peso á maior que 6 quilos?\n",
    "norm.sf(6, 8, 2)\n",
    "# 1 - norm.cdf(6, 8, 2)"
   ]
  },
  {
   "cell_type": "code",
   "execution_count": 4,
   "id": "7a04bdac-1698-4d6d-9cc2-e9723e32dd01",
   "metadata": {},
   "outputs": [
    {
     "data": {
      "text/plain": [
       "0.31731050786291415"
      ]
     },
     "execution_count": 4,
     "metadata": {},
     "output_type": "execute_result"
    }
   ],
   "source": [
    "# Qual a probabilidade de tirar um objeto que o peso é menor que 6 ou maior que 10 quilos?\n",
    "norm.cdf(6, 8, 2) + norm.sf(10, 8, 2)"
   ]
  },
  {
   "cell_type": "code",
   "execution_count": null,
   "id": "878d272c-8e4a-4e15-bc5a-1a51d6be7fff",
   "metadata": {},
   "outputs": [],
   "source": [
    "# Qual a probabilidade de tirar um objeto que o peso é menor que 10 e maior que 8 quilos?\n",
    "norm.cdf(10, 8, 2) - norm.cdf(8, 8, 2)"
   ]
  }
 ],
 "metadata": {
  "kernelspec": {
   "display_name": "Python 3",
   "language": "python",
   "name": "python3"
  },
  "language_info": {
   "codemirror_mode": {
    "name": "ipython",
    "version": 3
   },
   "file_extension": ".py",
   "mimetype": "text/x-python",
   "name": "python",
   "nbconvert_exporter": "python",
   "pygments_lexer": "ipython3",
   "version": "3.8.8"
  }
 },
 "nbformat": 4,
 "nbformat_minor": 5
}
