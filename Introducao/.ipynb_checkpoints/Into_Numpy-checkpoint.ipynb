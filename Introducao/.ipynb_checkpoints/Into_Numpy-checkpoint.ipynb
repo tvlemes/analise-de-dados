{
 "cells": [
  {
   "cell_type": "markdown",
   "id": "171e9b2c-d30d-42ed-b6f6-117e6cabf092",
   "metadata": {},
   "source": [
    "# Introdução a Numpy"
   ]
  },
  {
   "cell_type": "code",
   "execution_count": 1,
   "id": "0de558dc-4c7f-4fbf-b7a3-10af1443d34f",
   "metadata": {},
   "outputs": [],
   "source": [
    "import numpy as np"
   ]
  },
  {
   "cell_type": "code",
   "execution_count": 2,
   "id": "7ce35c29-dee1-46c8-a68d-9d4126fcd24f",
   "metadata": {},
   "outputs": [
    {
     "name": "stdout",
     "output_type": "stream",
     "text": [
      "[ 1 12 32 52  4]\n",
      "<class 'numpy.ndarray'>\n"
     ]
    }
   ],
   "source": [
    "# Criando um array unidimensional\n",
    "mt=np.array([1,12,32,52,4])\n",
    "print(mt)\n",
    "print(type(mt))"
   ]
  },
  {
   "cell_type": "code",
   "execution_count": 6,
   "id": "516f7f6c-eef1-40ad-8001-70bc37f59928",
   "metadata": {},
   "outputs": [
    {
     "name": "stdout",
     "output_type": "stream",
     "text": [
      "[ 1.6 12.8 32.9 52.7  4.8]\n",
      "<class 'numpy.ndarray'>\n",
      "[ 1 12 32 52  4]\n",
      "<class 'numpy.ndarray'>\n"
     ]
    }
   ],
   "source": [
    "# Criando um array unidimensional especifico\n",
    "\n",
    "# Array do tipo float\n",
    "mt=np.array([1.6,12.8,32.9,52.7,4.8], dtype=np.float64)\n",
    "print(mt)\n",
    "print(type(mt))\n",
    "\n",
    "# Array do tipo inteiro\n",
    "mt=np.array([1,12,32,52,4], dtype=np.int32)\n",
    "print(mt)\n",
    "print(type(mt))"
   ]
  },
  {
   "cell_type": "code",
   "execution_count": 8,
   "id": "bf8457ef-4b65-4729-afdb-46e0669a4fd3",
   "metadata": {},
   "outputs": [
    {
     "name": "stdout",
     "output_type": "stream",
     "text": [
      "[ 1.6 12.8 32.9 52.7  4.8]\n",
      "[ 1 12 32 52  4]\n"
     ]
    }
   ],
   "source": [
    "# Mudando o tipo do array\n",
    "mt=np.array([1.6,12.8,32.9,52.7,4.8], dtype=np.float64)\n",
    "print(mt)\n",
    "\n",
    "# Mudando o tipo\n",
    "mtint=mt.astype(np.int32)\n",
    "print(mtint)"
   ]
  },
  {
   "cell_type": "code",
   "execution_count": 10,
   "id": "a192625e-4d83-4009-8d61-9481cd0f9207",
   "metadata": {},
   "outputs": [
    {
     "name": "stdout",
     "output_type": "stream",
     "text": [
      "[[25 32 45]\n",
      " [65 48 19]\n",
      " [85 41 97]]\n",
      "<class 'numpy.ndarray'>\n"
     ]
    }
   ],
   "source": [
    "# Criando um array bidimensional\n",
    "mtb=np.array([[25,32,45],[65,48,19],[85,41,97]])\n",
    "print(mtb)\n",
    "print(type(mtb))"
   ]
  },
  {
   "cell_type": "code",
   "execution_count": 19,
   "id": "11cc6ef1-5307-43e1-bd4a-e8c55855ddf2",
   "metadata": {},
   "outputs": [
    {
     "name": "stdout",
     "output_type": "stream",
     "text": [
      "[[1719520544        546]\n",
      " [         0          0]\n",
      " [         1         69]]\n",
      "----------------------\n",
      "[[0. 0.]\n",
      " [0. 0.]\n",
      " [0. 0.]\n",
      " [0. 0.]]\n",
      "----------------------\n",
      "[[1. 0. 0. 0. 0.]\n",
      " [0. 1. 0. 0. 0.]\n",
      " [0. 0. 1. 0. 0.]\n",
      " [0. 0. 0. 1. 0.]\n",
      " [0. 0. 0. 0. 1.]]\n",
      "----------------------\n",
      "[[1. 1. 1. 1.]\n",
      " [1. 1. 1. 1.]\n",
      " [1. 1. 1. 1.]]\n",
      "----------------------\n"
     ]
    }
   ],
   "source": [
    "# Criando array com valores nulos\n",
    "mtn=np.empty([3,2], dtype=int)\n",
    "print(mtn)\n",
    "print('----------------------')\n",
    "\n",
    "# Criando array com valores zero\n",
    "mtz=np.zeros([4,2])\n",
    "print(mtz)\n",
    "print('----------------------')\n",
    "\n",
    "# Criando array com diagonal com valor 1\n",
    "diag=np.eye(5)\n",
    "print(diag)\n",
    "print('----------------------')\n",
    "\n",
    "# Criando array com valor 1\n",
    "mto=np.ones([3,4])\n",
    "print(mto)\n",
    "print('----------------------')"
   ]
  },
  {
   "cell_type": "code",
   "execution_count": 30,
   "id": "f307c210-9369-4bf1-a0b5-87148b6b3df2",
   "metadata": {},
   "outputs": [
    {
     "name": "stdout",
     "output_type": "stream",
     "text": [
      "[0.39581782 0.37806303 0.80666113 0.93444519 0.24580347]\n",
      "----------------------\n",
      "[-0.41640232 -3.12697795  0.89290412 -0.06513465 -0.2514574 ]\n",
      "----------------------\n",
      "[[5.1807747  0.59157255 6.30305689 8.78830848]\n",
      " [3.09784813 7.62770002 1.58763062 4.46991449]\n",
      " [9.02834683 1.82398628 4.28463648 9.9236309 ]]\n",
      "----------------------\n",
      "[0.51182162 0.9504637  0.14415961]\n",
      "----------------------\n",
      "[[8 9 2 3]\n",
      " [8 4 2 8]\n",
      " [2 4 6 5]]\n"
     ]
    }
   ],
   "source": [
    "# Criando matriz com valores aleatórios\n",
    "ale1=np.random.random(5)\n",
    "print(ale1)\n",
    "print('----------------------')\n",
    "\n",
    "# Criando matriz com valores aleatórios contendo números negativos\n",
    "ale2=np.random.randn(5)\n",
    "print(ale2)\n",
    "print('----------------------')\n",
    "\n",
    "# Criando matriz com valores aleatórios contendo números negativos\n",
    "ale3=(10*np.random.random([3,4]))\n",
    "print(ale3)\n",
    "print('----------------------')\n",
    "\n",
    "# Criando números aleatórios sempre com o mesmo número\n",
    "gnr=np.random.default_rng(1)\n",
    "ale4=gnr.random(3)\n",
    "print(ale4)\n",
    "print('----------------------')\n",
    "\n",
    "# Criando números aleatórios inteiros\n",
    "ale5=gnr.integers(10, size=(3,4))\n",
    "print(ale5)"
   ]
  },
  {
   "cell_type": "code",
   "execution_count": 31,
   "id": "ea580128-009b-4176-a7e5-bc6034012f58",
   "metadata": {},
   "outputs": [
    {
     "name": "stdout",
     "output_type": "stream",
     "text": [
      "[1 2 3 4 5]\n"
     ]
    }
   ],
   "source": [
    "# Removendo números reptidos\n",
    "j=np.array([1,2,3,4,5,1,2,3])\n",
    "j=np.unique(j)\n",
    "print(j)"
   ]
  },
  {
   "cell_type": "code",
   "execution_count": 43,
   "id": "ac7360d7-caa8-41f6-b98c-1f78ec77a4b6",
   "metadata": {},
   "outputs": [
    {
     "name": "stdout",
     "output_type": "stream",
     "text": [
      "97\n",
      "(3, 3)\n",
      "97\n",
      "19\n",
      "457\n",
      "50.77777777777778\n",
      "25.107669380657278\n",
      "[1. 2. 3. 4. 5. 6.]\n",
      "[2.71828183e+00 5.45981500e+01 8.10308393e+03 8.88611052e+06\n",
      " 7.20048993e+10 4.31123155e+15]\n"
     ]
    }
   ],
   "source": [
    "# Funções especificas da matriz\n",
    "mtb=np.array([[25,32,45],[65,48,19],[85,41,97]])\n",
    "\n",
    "# Mostra um elemento especifico da matriz\n",
    "print(mtb[2][2])\n",
    "\n",
    "# Mostra o tamanho da matriz\n",
    "print(mtb.shape)\n",
    "\n",
    "# Funções matemáticas\n",
    "# Valor maximo\n",
    "print(mtb.max())\n",
    "# Valor minimo\n",
    "print(mtb.min())\n",
    "# Soma dos valores\n",
    "print(mtb.sum())\n",
    "# media\n",
    "print(mtb.mean())\n",
    "# Desvio padrão\n",
    "print(mtb.std())\n",
    "\n",
    "# Calcular a raiz quadrada\n",
    "mty=np.array([1,4,9,16,25,36])\n",
    "print(np.sqrt(mty))\n",
    "\n",
    "# Calcula o valor exponencial\n",
    "print(np.exp(mty))"
   ]
  },
  {
   "cell_type": "code",
   "execution_count": 49,
   "id": "e259510e-bf64-4d08-a2fb-03c22a60c811",
   "metadata": {},
   "outputs": [
    {
     "name": "stdout",
     "output_type": "stream",
     "text": [
      "[[1 2]\n",
      " [7 9]\n",
      " [9 4]]\n",
      "----------------\n",
      "[1 2]\n",
      "[2 9 4]\n"
     ]
    }
   ],
   "source": [
    "# Extração de elementos\n",
    "arr=np.array([[1,2], [7,9], [9,4]])\n",
    "print(arr)\n",
    "print('----------------')\n",
    "\n",
    "# Extraindo toda a primeira linha\n",
    "print(arr[0, :])\n",
    "\n",
    "# Extraindo toda a primeira coluna\n",
    "print(arr[:, 0])"
   ]
  },
  {
   "cell_type": "code",
   "execution_count": null,
   "id": "0ea99932-940b-4040-ae1b-f0afb3f12e60",
   "metadata": {},
   "outputs": [],
   "source": []
  }
 ],
 "metadata": {
  "kernelspec": {
   "display_name": "Python 3",
   "language": "python",
   "name": "python3"
  },
  "language_info": {
   "codemirror_mode": {
    "name": "ipython",
    "version": 3
   },
   "file_extension": ".py",
   "mimetype": "text/x-python",
   "name": "python",
   "nbconvert_exporter": "python",
   "pygments_lexer": "ipython3",
   "version": "3.8.8"
  }
 },
 "nbformat": 4,
 "nbformat_minor": 5
}
