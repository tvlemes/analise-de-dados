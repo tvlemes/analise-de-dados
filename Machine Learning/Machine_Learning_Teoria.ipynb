{
 "cells": [
  {
   "cell_type": "markdown",
   "metadata": {},
   "source": [
    "# Machine Learning\n",
    "#### Tarefas: Classificação | Regressão | Agrupamentos | Regras de Associação\n",
    "#### Dados Supervisionados - o dados já são rotulados\n",
    "#### Dados não Supervisionados - os dados não possuem rotulos, o algoritmo é quem vai rotular"
   ]
  },
  {
   "cell_type": "markdown",
   "metadata": {},
   "source": [
    "# Classificação\n",
    "#### Queremos descobrir ou descrever a classe de um fato.\n",
    "#### Normalmente a classe em uma relação esta representada em um atributo especial, posicionado como último atributo da relação.\n",
    "#### Atributo Nominal\n",
    "#### Modelo Hold out - divisão de dados para classificação(treinamento do modelo 70% dados histórico) e outra parte para teste(30% dados histórico)\n",
    "#### Modelo Cruzado - Treino 1(10%  dados histórico) | Treino 2(10%  dados histórico) | Treino n(10%  dados histórico) | Treino 9(10%  dados histórico) | Teste(10%  dados histórico)\n"
   ]
  },
  {
   "cell_type": "markdown",
   "metadata": {},
   "source": [
    "## Tipos de algoritmos de Classificação\n",
    "#### Árvore de Decisão\n",
    "#### Regras - if | then | else\n",
    "#### Naive Bayes - os atributos influência a classe de forma independente, ex.: casada, desempregada e boa pagadora \n",
    "#### Redes Bayesianas - há uma dependência entre os atributos atráves de probabilidade condicional. ex.: casada e desempregada e boa pagadora\n",
    "#### Máquina de Vetor de Suporte \n",
    "#### Métodos de Grupos - exemplos: Florestas Aleatórias | Boosting\n",
    "#### Classificador do vizinho mais próximo - Nearest-neighbor\n"
   ]
  }
 ],
 "metadata": {
  "interpreter": {
   "hash": "b6009c7c86cf8be5620742faae512e47eac1f451f5f0749dcc308717fb2cfb9f"
  },
  "kernelspec": {
   "display_name": "Python 3.7.3 ('base')",
   "language": "python",
   "name": "python3"
  },
  "language_info": {
   "codemirror_mode": {
    "name": "ipython",
    "version": 3
   },
   "file_extension": ".py",
   "mimetype": "text/x-python",
   "name": "python",
   "nbconvert_exporter": "python",
   "pygments_lexer": "ipython3",
   "version": "3.7.3"
  },
  "orig_nbformat": 4
 },
 "nbformat": 4,
 "nbformat_minor": 2
}
