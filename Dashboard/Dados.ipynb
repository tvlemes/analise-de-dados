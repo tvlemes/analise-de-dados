{
 "cells": [
  {
   "cell_type": "markdown",
   "id": "55fddc30-1d45-4288-91f0-72f182ecf604",
   "metadata": {},
   "source": [
    "# Exercício"
   ]
  },
  {
   "cell_type": "code",
   "execution_count": 1,
   "id": "53bdea2b-93b7-4059-8bd4-84b92ea7fe05",
   "metadata": {},
   "outputs": [],
   "source": [
    "import pandas as pd\n",
    "import numpy as np\n",
    "import matplotlib.pyplot as plt\n",
    "import seaborn as sns"
   ]
  },
  {
   "cell_type": "code",
   "execution_count": 27,
   "id": "3a5a6f58-c4a8-4d57-bab8-0ac8a0685fab",
   "metadata": {},
   "outputs": [
    {
     "data": {
      "text/html": [
       "<div>\n",
       "<style scoped>\n",
       "    .dataframe tbody tr th:only-of-type {\n",
       "        vertical-align: middle;\n",
       "    }\n",
       "\n",
       "    .dataframe tbody tr th {\n",
       "        vertical-align: top;\n",
       "    }\n",
       "\n",
       "    .dataframe thead th {\n",
       "        text-align: right;\n",
       "    }\n",
       "</style>\n",
       "<table border=\"1\" class=\"dataframe\">\n",
       "  <thead>\n",
       "    <tr style=\"text-align: right;\">\n",
       "      <th></th>\n",
       "      <th>CODIGO</th>\n",
       "      <th>MUNICIPIO</th>\n",
       "      <th>PIB</th>\n",
       "      <th>VALOREMPENHO</th>\n",
       "    </tr>\n",
       "  </thead>\n",
       "  <tbody>\n",
       "    <tr>\n",
       "      <th>0</th>\n",
       "      <td>106</td>\n",
       "      <td>SANTANA DO LIVRAMENTO</td>\n",
       "      <td>12240.76</td>\n",
       "      <td>1088666.10</td>\n",
       "    </tr>\n",
       "    <tr>\n",
       "      <th>1</th>\n",
       "      <td>113</td>\n",
       "      <td>SANTO ANGELO</td>\n",
       "      <td>16575.82</td>\n",
       "      <td>800669.92</td>\n",
       "    </tr>\n",
       "    <tr>\n",
       "      <th>2</th>\n",
       "      <td>118</td>\n",
       "      <td>SAO FRANCISCO DE ASSIS</td>\n",
       "      <td>12037.61</td>\n",
       "      <td>466122.80</td>\n",
       "    </tr>\n",
       "    <tr>\n",
       "      <th>3</th>\n",
       "      <td>13</td>\n",
       "      <td>CACAPAVA DO SUL</td>\n",
       "      <td>13674.54</td>\n",
       "      <td>485535.86</td>\n",
       "    </tr>\n",
       "    <tr>\n",
       "      <th>4</th>\n",
       "      <td>120</td>\n",
       "      <td>SAO GABRIEL</td>\n",
       "      <td>19912.38</td>\n",
       "      <td>533719.86</td>\n",
       "    </tr>\n",
       "  </tbody>\n",
       "</table>\n",
       "</div>"
      ],
      "text/plain": [
       "   CODIGO               MUNICIPIO       PIB  VALOREMPENHO\n",
       "0     106   SANTANA DO LIVRAMENTO  12240.76    1088666.10\n",
       "1     113            SANTO ANGELO  16575.82     800669.92\n",
       "2     118  SAO FRANCISCO DE ASSIS  12037.61     466122.80\n",
       "3      13         CACAPAVA DO SUL  13674.54     485535.86\n",
       "4     120             SAO GABRIEL  19912.38     533719.86"
      ]
     },
     "execution_count": 27,
     "metadata": {},
     "output_type": "execute_result"
    }
   ],
   "source": [
    "dataset = pd.read_csv('dados.csv', sep=';')\n",
    "dataset.head()"
   ]
  },
  {
   "cell_type": "code",
   "execution_count": 23,
   "id": "1423d7ff-83a3-40a6-ab57-20f46945ee24",
   "metadata": {},
   "outputs": [
    {
     "data": {
      "text/plain": [
       "TAQUARA                      2\n",
       "DOUTOR MAURICIO CARDOSO      2\n",
       "SANTO ANTONIO DO PLANALTO    2\n",
       "SANTO ANTONIO DAS MISSOES    2\n",
       "CERRO BRANCO                 2\n",
       "                            ..\n",
       "ROQUE GONZALES               1\n",
       "CACHOEIRA DO SUL             1\n",
       "GLORINHA                     1\n",
       "IBIRAPUITA                   1\n",
       "JULIO DE CASTILHOS           1\n",
       "Name: MUNICIPIO, Length: 177, dtype: int64"
      ]
     },
     "execution_count": 23,
     "metadata": {},
     "output_type": "execute_result"
    }
   ],
   "source": [
    "# Total de Municípios\n",
    "dataset['MUNICIPIO'].value_counts()"
   ]
  },
  {
   "cell_type": "code",
   "execution_count": 25,
   "id": "71237532-524d-4c7c-b543-4ab6e53a81cc",
   "metadata": {},
   "outputs": [
    {
     "data": {
      "text/html": [
       "<div>\n",
       "<style scoped>\n",
       "    .dataframe tbody tr th:only-of-type {\n",
       "        vertical-align: middle;\n",
       "    }\n",
       "\n",
       "    .dataframe tbody tr th {\n",
       "        vertical-align: top;\n",
       "    }\n",
       "\n",
       "    .dataframe thead th {\n",
       "        text-align: right;\n",
       "    }\n",
       "</style>\n",
       "<table border=\"1\" class=\"dataframe\">\n",
       "  <thead>\n",
       "    <tr style=\"text-align: right;\">\n",
       "      <th></th>\n",
       "      <th>CODIGO</th>\n",
       "      <th>MUNICIPIO</th>\n",
       "      <th>PIB</th>\n",
       "      <th>VALOREMPENHO</th>\n",
       "    </tr>\n",
       "  </thead>\n",
       "  <tbody>\n",
       "    <tr>\n",
       "      <th>18</th>\n",
       "      <td>259</td>\n",
       "      <td>CERRO BRANCO</td>\n",
       "      <td>11961.10</td>\n",
       "      <td>208240.50</td>\n",
       "    </tr>\n",
       "    <tr>\n",
       "      <th>19</th>\n",
       "      <td>259</td>\n",
       "      <td>MONTE ALEGRE DOS CAMPOS</td>\n",
       "      <td>11961.10</td>\n",
       "      <td>208240.50</td>\n",
       "    </tr>\n",
       "    <tr>\n",
       "      <th>21</th>\n",
       "      <td>259</td>\n",
       "      <td>CERRO BRANCO</td>\n",
       "      <td>12467.25</td>\n",
       "      <td>208240.50</td>\n",
       "    </tr>\n",
       "    <tr>\n",
       "      <th>22</th>\n",
       "      <td>259</td>\n",
       "      <td>MONTE ALEGRE DOS CAMPOS</td>\n",
       "      <td>12467.25</td>\n",
       "      <td>208240.50</td>\n",
       "    </tr>\n",
       "    <tr>\n",
       "      <th>41</th>\n",
       "      <td>141</td>\n",
       "      <td>DOUTOR MAURICIO CARDOSO</td>\n",
       "      <td>13628.17</td>\n",
       "      <td>147767.38</td>\n",
       "    </tr>\n",
       "    <tr>\n",
       "      <th>42</th>\n",
       "      <td>141</td>\n",
       "      <td>TAQUARA</td>\n",
       "      <td>13628.17</td>\n",
       "      <td>147767.38</td>\n",
       "    </tr>\n",
       "    <tr>\n",
       "      <th>57</th>\n",
       "      <td>141</td>\n",
       "      <td>DOUTOR MAURICIO CARDOSO</td>\n",
       "      <td>18628.78</td>\n",
       "      <td>147767.38</td>\n",
       "    </tr>\n",
       "    <tr>\n",
       "      <th>58</th>\n",
       "      <td>141</td>\n",
       "      <td>TAQUARA</td>\n",
       "      <td>18628.78</td>\n",
       "      <td>147767.38</td>\n",
       "    </tr>\n",
       "    <tr>\n",
       "      <th>82</th>\n",
       "      <td>378</td>\n",
       "      <td>MULITERNO</td>\n",
       "      <td>16581.60</td>\n",
       "      <td>97594.98</td>\n",
       "    </tr>\n",
       "    <tr>\n",
       "      <th>83</th>\n",
       "      <td>378</td>\n",
       "      <td>SANTO ANTONIO DAS MISSOES</td>\n",
       "      <td>16581.60</td>\n",
       "      <td>97594.98</td>\n",
       "    </tr>\n",
       "    <tr>\n",
       "      <th>94</th>\n",
       "      <td>378</td>\n",
       "      <td>MULITERNO</td>\n",
       "      <td>19914.82</td>\n",
       "      <td>97594.98</td>\n",
       "    </tr>\n",
       "    <tr>\n",
       "      <th>95</th>\n",
       "      <td>378</td>\n",
       "      <td>SANTO ANTONIO DAS MISSOES</td>\n",
       "      <td>19914.82</td>\n",
       "      <td>97594.98</td>\n",
       "    </tr>\n",
       "    <tr>\n",
       "      <th>125</th>\n",
       "      <td>380</td>\n",
       "      <td>NOVA BOA VISTA</td>\n",
       "      <td>18676.57</td>\n",
       "      <td>58868.19</td>\n",
       "    </tr>\n",
       "    <tr>\n",
       "      <th>126</th>\n",
       "      <td>380</td>\n",
       "      <td>SANTO ANTONIO DO PLANALTO</td>\n",
       "      <td>18676.57</td>\n",
       "      <td>58868.19</td>\n",
       "    </tr>\n",
       "    <tr>\n",
       "      <th>141</th>\n",
       "      <td>380</td>\n",
       "      <td>NOVA BOA VISTA</td>\n",
       "      <td>24509.74</td>\n",
       "      <td>58868.19</td>\n",
       "    </tr>\n",
       "    <tr>\n",
       "      <th>142</th>\n",
       "      <td>380</td>\n",
       "      <td>SANTO ANTONIO DO PLANALTO</td>\n",
       "      <td>24509.74</td>\n",
       "      <td>58868.19</td>\n",
       "    </tr>\n",
       "    <tr>\n",
       "      <th>179</th>\n",
       "      <td>372</td>\n",
       "      <td>MATO LEITAO</td>\n",
       "      <td>17213.98</td>\n",
       "      <td>760.00</td>\n",
       "    </tr>\n",
       "    <tr>\n",
       "      <th>180</th>\n",
       "      <td>372</td>\n",
       "      <td>SANTA VITORIA DO PALMAR</td>\n",
       "      <td>17213.98</td>\n",
       "      <td>760.00</td>\n",
       "    </tr>\n",
       "    <tr>\n",
       "      <th>181</th>\n",
       "      <td>372</td>\n",
       "      <td>MATO LEITAO</td>\n",
       "      <td>27170.89</td>\n",
       "      <td>760.00</td>\n",
       "    </tr>\n",
       "    <tr>\n",
       "      <th>182</th>\n",
       "      <td>372</td>\n",
       "      <td>SANTA VITORIA DO PALMAR</td>\n",
       "      <td>27170.89</td>\n",
       "      <td>760.00</td>\n",
       "    </tr>\n",
       "  </tbody>\n",
       "</table>\n",
       "</div>"
      ],
      "text/plain": [
       "     CODIGO                  MUNICIPIO       PIB  VALOREMPENHO\n",
       "18      259               CERRO BRANCO  11961.10     208240.50\n",
       "19      259    MONTE ALEGRE DOS CAMPOS  11961.10     208240.50\n",
       "21      259               CERRO BRANCO  12467.25     208240.50\n",
       "22      259    MONTE ALEGRE DOS CAMPOS  12467.25     208240.50\n",
       "41      141    DOUTOR MAURICIO CARDOSO  13628.17     147767.38\n",
       "42      141                    TAQUARA  13628.17     147767.38\n",
       "57      141    DOUTOR MAURICIO CARDOSO  18628.78     147767.38\n",
       "58      141                    TAQUARA  18628.78     147767.38\n",
       "82      378                  MULITERNO  16581.60      97594.98\n",
       "83      378  SANTO ANTONIO DAS MISSOES  16581.60      97594.98\n",
       "94      378                  MULITERNO  19914.82      97594.98\n",
       "95      378  SANTO ANTONIO DAS MISSOES  19914.82      97594.98\n",
       "125     380             NOVA BOA VISTA  18676.57      58868.19\n",
       "126     380  SANTO ANTONIO DO PLANALTO  18676.57      58868.19\n",
       "141     380             NOVA BOA VISTA  24509.74      58868.19\n",
       "142     380  SANTO ANTONIO DO PLANALTO  24509.74      58868.19\n",
       "179     372                MATO LEITAO  17213.98        760.00\n",
       "180     372    SANTA VITORIA DO PALMAR  17213.98        760.00\n",
       "181     372                MATO LEITAO  27170.89        760.00\n",
       "182     372    SANTA VITORIA DO PALMAR  27170.89        760.00"
      ]
     },
     "execution_count": 25,
     "metadata": {},
     "output_type": "execute_result"
    }
   ],
   "source": [
    "# Verificando se há dados repetidos\n",
    "dataset[dataset.duplicated(['MUNICIPIO'], keep=False)]"
   ]
  },
  {
   "cell_type": "code",
   "execution_count": 17,
   "id": "fd1aa7c7-01a7-42c5-9a05-3271d3c30ac2",
   "metadata": {},
   "outputs": [],
   "source": [
    "# Deletando os dados duplicados\n",
    "dataset.drop_duplicates(subset='CODIGO', keep='first', inplace=True)"
   ]
  },
  {
   "cell_type": "code",
   "execution_count": 21,
   "id": "e107bdf7-e549-4d28-8134-e8dfabb202ef",
   "metadata": {},
   "outputs": [
    {
     "data": {
      "text/plain": [
       "(172, 4)"
      ]
     },
     "execution_count": 21,
     "metadata": {},
     "output_type": "execute_result"
    }
   ],
   "source": [
    "# Total de registros\n",
    "dataset.shape"
   ]
  },
  {
   "cell_type": "code",
   "execution_count": 26,
   "id": "31f9f0d1-5346-4120-9d37-80dace5784e2",
   "metadata": {},
   "outputs": [
    {
     "data": {
      "text/html": [
       "<div>\n",
       "<style scoped>\n",
       "    .dataframe tbody tr th:only-of-type {\n",
       "        vertical-align: middle;\n",
       "    }\n",
       "\n",
       "    .dataframe tbody tr th {\n",
       "        vertical-align: top;\n",
       "    }\n",
       "\n",
       "    .dataframe thead th {\n",
       "        text-align: right;\n",
       "    }\n",
       "</style>\n",
       "<table border=\"1\" class=\"dataframe\">\n",
       "  <thead>\n",
       "    <tr style=\"text-align: right;\">\n",
       "      <th></th>\n",
       "      <th>CODIGO</th>\n",
       "      <th>MUNICIPIO</th>\n",
       "      <th>PIB</th>\n",
       "      <th>VALOREMPENHO</th>\n",
       "    </tr>\n",
       "  </thead>\n",
       "  <tbody>\n",
       "    <tr>\n",
       "      <th>18</th>\n",
       "      <td>259</td>\n",
       "      <td>CERRO BRANCO</td>\n",
       "      <td>11961.10</td>\n",
       "      <td>208240.5</td>\n",
       "    </tr>\n",
       "    <tr>\n",
       "      <th>21</th>\n",
       "      <td>259</td>\n",
       "      <td>CERRO BRANCO</td>\n",
       "      <td>12467.25</td>\n",
       "      <td>208240.5</td>\n",
       "    </tr>\n",
       "  </tbody>\n",
       "</table>\n",
       "</div>"
      ],
      "text/plain": [
       "    CODIGO     MUNICIPIO       PIB  VALOREMPENHO\n",
       "18     259  CERRO BRANCO  11961.10      208240.5\n",
       "21     259  CERRO BRANCO  12467.25      208240.5"
      ]
     },
     "execution_count": 26,
     "metadata": {},
     "output_type": "execute_result"
    }
   ],
   "source": [
    "dataset.loc[dataset['MUNICIPIO'] == 'CERRO BRANCO']"
   ]
  },
  {
   "cell_type": "code",
   "execution_count": 42,
   "id": "a9a645b3-fa20-40fd-a696-0951a2c48c3e",
   "metadata": {},
   "outputs": [
    {
     "ename": "AttributeError",
     "evalue": "'FacetGrid' object has no attribute 'set_title'",
     "output_type": "error",
     "traceback": [
      "\u001b[1;31m---------------------------------------------------------------------------\u001b[0m",
      "\u001b[1;31mAttributeError\u001b[0m                            Traceback (most recent call last)",
      "\u001b[1;32m<ipython-input-42-139bef892a24>\u001b[0m in \u001b[0;36m<module>\u001b[1;34m\u001b[0m\n\u001b[1;32m----> 1\u001b[1;33m \u001b[0msns\u001b[0m\u001b[1;33m.\u001b[0m\u001b[0mdisplot\u001b[0m\u001b[1;33m(\u001b[0m\u001b[0mdataset\u001b[0m\u001b[1;33m.\u001b[0m\u001b[0mPIB\u001b[0m\u001b[1;33m,\u001b[0m \u001b[0mbins\u001b[0m \u001b[1;33m=\u001b[0m \u001b[1;36m10\u001b[0m\u001b[1;33m)\u001b[0m\u001b[1;33m.\u001b[0m\u001b[0mset_title\u001b[0m\u001b[1;33m(\u001b[0m\u001b[1;34m'PIB'\u001b[0m\u001b[1;33m)\u001b[0m\u001b[1;33m\u001b[0m\u001b[1;33m\u001b[0m\u001b[0m\n\u001b[0m",
      "\u001b[1;31mAttributeError\u001b[0m: 'FacetGrid' object has no attribute 'set_title'"
     ]
    },
    {
     "data": {
      "image/png": "[encoded data removed]",
      "text/plain": [
       "<Figure size 360x360 with 1 Axes>"
      ]
     },
     "metadata": {
      "needs_background": "light"
     },
     "output_type": "display_data"
    }
   ],
   "source": [
    "sns.displot(dataset.PIB, bins = 10).set_title('PIB')"
   ]
  },
  {
   "cell_type": "code",
   "execution_count": 32,
   "id": "b7000f59-f141-4e54-b851-21234ef6e9de",
   "metadata": {},
   "outputs": [
    {
     "data": {
      "text/plain": [
       "<AxesSubplot:xlabel='MUNICIPIO'>"
      ]
     },
     "execution_count": 32,
     "metadata": {},
     "output_type": "execute_result"
    },
    {
     "data": {
      "image/png": "[encoded data removed]",
      "text/plain": [
       "<Figure size 432x288 with 1 Axes>"
      ]
     },
     "metadata": {
      "needs_background": "light"
     },
     "output_type": "display_data"
    }
   ],
   "source": [
    "agrupado = dataset.sort_values('PIB').head(20)\n",
    "agrupado = agrupado.iloc[:,1:3]\n",
    "agrupado\n",
    "agrupado.plot.bar(x='MUNICIPIO',y='PIB', color = 'gray')"
   ]
  },
  {
   "cell_type": "code",
   "execution_count": 34,
   "id": "66683264-7070-468c-8ffe-490c14efcb8a",
   "metadata": {},
   "outputs": [
    {
     "data": {
      "text/plain": [
       "<AxesSubplot:xlabel='MUNICIPIO'>"
      ]
     },
     "execution_count": 34,
     "metadata": {},
     "output_type": "execute_result"
    },
    {
     "data": {
      "image/png": "[encoded data removed]",
      "text/plain": [
       "<Figure size 432x288 with 1 Axes>"
      ]
     },
     "metadata": {
      "needs_background": "light"
     },
     "output_type": "display_data"
    }
   ],
   "source": [
    "agrupado = dataset.sort_values('VALOREMPENHO').head(10)\n",
    "agrupado = agrupado.iloc[:,[1,3]]\n",
    "agrupado\n",
    "agrupado.plot.bar(x='MUNICIPIO',y='VALOREMPENHO', color = 'gray')"
   ]
  },
  {
   "cell_type": "code",
   "execution_count": null,
   "id": "4bba2836-3054-4a4e-b827-87d7871ec89f",
   "metadata": {},
   "outputs": [],
   "source": []
  }
 ],
 "metadata": {
  "kernelspec": {
   "display_name": "Python 3",
   "language": "python",
   "name": "python3"
  },
  "language_info": {
   "codemirror_mode": {
    "name": "ipython",
    "version": 3
   },
   "file_extension": ".py",
   "mimetype": "text/x-python",
   "name": "python",
   "nbconvert_exporter": "python",
   "pygments_lexer": "ipython3",
   "version": "3.8.8"
  }
 },
 "nbformat": 4,
 "nbformat_minor": 5
}
